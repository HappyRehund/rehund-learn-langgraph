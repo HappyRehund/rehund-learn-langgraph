{
 "cells": [
  {
   "cell_type": "code",
   "execution_count": 2,
   "id": "2845b0f8",
   "metadata": {},
   "outputs": [],
   "source": [
    "import os\n",
    "from langchain.chat_models import init_chat_model\n",
    "from getpass import getpass"
   ]
  },
  {
   "cell_type": "code",
   "execution_count": 3,
   "id": "0b5dbefb",
   "metadata": {},
   "outputs": [],
   "source": [
    "os.environ[\"OPENAI_API_KEY\"] = getpass(\"Enter your OpenAI API key: \")"
   ]
  },
  {
   "cell_type": "code",
   "execution_count": 4,
   "id": "71f00ce7",
   "metadata": {},
   "outputs": [],
   "source": [
    "llm = init_chat_model(\"openai:gpt-3.5-turbo\", temperature=0.7)"
   ]
  },
  {
   "cell_type": "code",
   "execution_count": 5,
   "id": "e92d0e80",
   "metadata": {},
   "outputs": [],
   "source": [
    "os.environ[\"TAVILY_API_KEY\"] = getpass(\"Enter yout Tavily API key: \")"
   ]
  },
  {
   "cell_type": "code",
   "execution_count": 6,
   "id": "57047e6b",
   "metadata": {},
   "outputs": [],
   "source": [
    "from typing import Annotated\n",
    "\n",
    "from langchain_tavily import TavilySearch\n",
    "from langchain_core.messages import BaseMessage\n",
    "from typing_extensions import TypedDict\n",
    "\n",
    "from langgraph.graph import StateGraph, START, END\n",
    "from langgraph.graph.message import add_messages\n",
    "from langgraph.prebuilt import ToolNode, tools_condition\n",
    "\n",
    "class State(TypedDict):\n",
    "    messages: Annotated[list, add_messages]\n",
    "\n",
    "graph_builder = StateGraph(State)\n",
    "\n",
    "tool = TavilySearch(max_results=2)\n",
    "tools = [tool]\n",
    "llm_with_tools = llm.bind_tools(tools)\n",
    "\n",
    "def chatbot(state: State):\n",
    "    return {\"messages\": [llm_with_tools.invoke(state[\"messages\"])]}\n",
    "\n",
    "graph_builder.add_node(\"chatbot\", chatbot)\n",
    "\n",
    "tool_node = ToolNode(tools=[tool])\n",
    "graph_builder.add_node(\"tools\", tool_node)\n",
    "\n",
    "graph_builder.add_conditional_edges(\n",
    "    \"chatbot\",\n",
    "    tools_condition,\n",
    ")\n",
    "# Any time a tool is called, we return to the chatbot to decide the next step\n",
    "graph_builder.add_edge(\"tools\", \"chatbot\")\n",
    "graph_builder.add_edge(START, \"chatbot\")\n",
    "graph = graph_builder.compile()\n"
   ]
  },
  {
   "cell_type": "code",
   "execution_count": 7,
   "id": "bb27a9ab",
   "metadata": {},
   "outputs": [
    {
     "data": {
      "image/png": "[encoded data removed]",
      "text/plain": [
       "<IPython.core.display.Image object>"
      ]
     },
     "metadata": {},
     "output_type": "display_data"
    }
   ],
   "source": [
    "from IPython.display import display, Image\n",
    "\n",
    "try:\n",
    "    display(Image(graph.get_graph().draw_mermaid_png()))\n",
    "except Exception:\n",
    "    pass"
   ]
  },
  {
   "cell_type": "markdown",
   "id": "ab7190a0",
   "metadata": {},
   "source": [
    "## Built berdasarkan tools (exercise sebelumnya)\n",
    "- Chatbot sekarang udah bisa menggunakan tools untuk menjawab pertanyaan pengguna\n",
    "- Tetapi dia tidak mengingat context dari interaksi sebelumnya, Hal in membatasi kemampuannya untuk melakukan multi-turn conversations yang koheren"
   ]
  },
  {
   "cell_type": "markdown",
   "id": "a1aa03a3",
   "metadata": {},
   "source": [
    "## Langgraph memecahkan masalah ini melalui persistent checkpointing\n",
    "- Jika checkpointer disediakan ketika mengcompile graph dan sebuah thread_id ketika calling graph\n",
    "- LangGraph secara otomatis menyimpan state setelah setiap langkah\n",
    "- Ketika grpah di-invoke lagi menggunakan thread_id yang sama, graf akan memuat state yang tersimpan, sehingga chatbot dapat melanjutkan dari titik terakhir"
   ]
  },
  {
   "cell_type": "markdown",
   "id": "5ffad950",
   "metadata": {},
   "source": [
    "## Bagaimana Memory bekerja?\n",
    "Buat MemorySaver checkpointer"
   ]
  },
  {
   "cell_type": "code",
   "execution_count": 10,
   "id": "1368970e",
   "metadata": {},
   "outputs": [
    {
     "data": {
      "image/png": "[encoded data removed]",
      "text/plain": [
       "<IPython.core.display.Image object>"
      ]
     },
     "metadata": {},
     "output_type": "display_data"
    }
   ],
   "source": [
    "from langgraph.checkpoint.memory import MemorySaver\n",
    "\n",
    "memory = MemorySaver()\n",
    "\n",
    "graph = graph_builder.compile(checkpointer=memory)\n",
    "\n",
    "from IPython.display import display, Image\n",
    "try:\n",
    "    display(Image(graph.get_graph().draw_mermaid_png()))\n",
    "except Exception:\n",
    "    pass"
   ]
  },
  {
   "cell_type": "markdown",
   "id": "6381a400",
   "metadata": {},
   "source": [
    "## Buat suatu thread untuk digunakan sebagai key untuk 1 conversation"
   ]
  },
  {
   "cell_type": "code",
   "execution_count": 11,
   "id": "0ad84eb4",
   "metadata": {},
   "outputs": [],
   "source": [
    "config = {\"configurable\": {\"thread_id\": \"1\"}}"
   ]
  },
  {
   "cell_type": "code",
   "execution_count": 12,
   "id": "fe915d2c",
   "metadata": {},
   "outputs": [
    {
     "name": "stdout",
     "output_type": "stream",
     "text": [
      "================================\u001b[1m Human Message \u001b[0m=================================\n",
      "\n",
      "Hello, my name is Rehun\n",
      "==================================\u001b[1m Ai Message \u001b[0m==================================\n",
      "\n",
      "Hello Rehun! How can I assist you today?\n"
     ]
    }
   ],
   "source": [
    "user_input = \"Hello, my name is Rehun\"\n",
    "\n",
    "events = graph.stream(\n",
    "    {\"messages\": [{\"role\": \"user\", \"content\": user_input}]},\n",
    "    config,\n",
    "    stream_mode=\"values\"\n",
    ")\n",
    "\n",
    "for event in events:\n",
    "    event[\"messages\"][-1].pretty_print()"
   ]
  },
  {
   "cell_type": "markdown",
   "id": "972beff3",
   "metadata": {},
   "source": [
    "## Follow up question"
   ]
  },
  {
   "cell_type": "code",
   "execution_count": 14,
   "id": "0b66ab46",
   "metadata": {},
   "outputs": [
    {
     "name": "stdout",
     "output_type": "stream",
     "text": [
      "================================\u001b[1m Human Message \u001b[0m=================================\n",
      "\n",
      "remember my name?? who am i?\n",
      "==================================\u001b[1m Ai Message \u001b[0m==================================\n",
      "\n",
      "You are Rehun. How can I help you today, Rehun?\n"
     ]
    }
   ],
   "source": [
    "user_input = \"remember my name?? who am i?\"\n",
    "events = graph.stream(\n",
    "    {\"messages\": [{\"role\": \"user\", \"content\": user_input}]},\n",
    "    config,\n",
    "    stream_mode=\"values\"\n",
    ")\n",
    "\n",
    "for event in events:\n",
    "    event[\"messages\"][-1].pretty_print()"
   ]
  },
  {
   "cell_type": "markdown",
   "id": "1ab170bc",
   "metadata": {},
   "source": [
    "## Semisal kita mengganti thread_id"
   ]
  },
  {
   "cell_type": "code",
   "execution_count": 19,
   "id": "2ce29e30",
   "metadata": {},
   "outputs": [
    {
     "name": "stdout",
     "output_type": "stream",
     "text": [
      "================================\u001b[1m Human Message \u001b[0m=================================\n",
      "\n",
      "remember my name?? who am i?\n",
      "==================================\u001b[1m Ai Message \u001b[0m==================================\n",
      "\n",
      "I'm sorry, but I don't have the ability to remember personal details about users. If there's anything specific you'd like to know or discuss, feel free to ask!\n"
     ]
    }
   ],
   "source": [
    "user_input = \"remember my name?? who am i?\"\n",
    "events = graph.stream(\n",
    "    {\"messages\": [{\"role\": \"user\", \"content\": user_input}]},\n",
    "    {\"configurable\": {\"thread_id\": \"2\"}},\n",
    "    stream_mode=\"values\"\n",
    ")\n",
    "\n",
    "for event in events:\n",
    "    event[\"messages\"][-1].pretty_print()"
   ]
  },
  {
   "cell_type": "markdown",
   "id": "d1cf5d8d",
   "metadata": {},
   "source": [
    "## Inspecting the State"
   ]
  },
  {
   "cell_type": "code",
   "execution_count": 20,
   "id": "2ed3b1b1",
   "metadata": {},
   "outputs": [],
   "source": [
    "snapshot = graph.get_state(config)"
   ]
  },
  {
   "cell_type": "code",
   "execution_count": 21,
   "id": "46247d4a",
   "metadata": {},
   "outputs": [
    {
     "data": {
      "text/plain": [
       "StateSnapshot(values={'messages': [HumanMessage(content='Hello, my name is Rehun', additional_kwargs={}, response_metadata={}, id='a0e2c257-84fd-4e68-b4e6-330f74796fe3'), AIMessage(content='Hello Rehun! How can I assist you today?', additional_kwargs={'refusal': None}, response_metadata={'token_usage': {'completion_tokens': 13, 'prompt_tokens': 815, 'total_tokens': 828, 'completion_tokens_details': {'accepted_prediction_tokens': 0, 'audio_tokens': 0, 'reasoning_tokens': 0, 'rejected_prediction_tokens': 0}, 'prompt_tokens_details': {'audio_tokens': 0, 'cached_tokens': 0}}, 'model_name': 'gpt-3.5-turbo-0125', 'system_fingerprint': None, 'id': 'chatcmpl-BdPtZMLUVcNIn05j711xV7gRWtqLp', 'service_tier': 'default', 'finish_reason': 'stop', 'logprobs': None}, id='run--93ebfb77-7f92-4cb9-875b-3ae3745e6283-0', usage_metadata={'input_tokens': 815, 'output_tokens': 13, 'total_tokens': 828, 'input_token_details': {'audio': 0, 'cache_read': 0}, 'output_token_details': {'audio': 0, 'reasoning': 0}}), HumanMessage(content='remember my name?? who am i?', additional_kwargs={}, response_metadata={}, id='29500f09-4488-4fc8-b7df-49c0a7fd4d79'), AIMessage(content='You are Rehun. How can I help you today, Rehun?', additional_kwargs={'refusal': None}, response_metadata={'token_usage': {'completion_tokens': 18, 'prompt_tokens': 843, 'total_tokens': 861, 'completion_tokens_details': {'accepted_prediction_tokens': 0, 'audio_tokens': 0, 'reasoning_tokens': 0, 'rejected_prediction_tokens': 0}, 'prompt_tokens_details': {'audio_tokens': 0, 'cached_tokens': 0}}, 'model_name': 'gpt-3.5-turbo-0125', 'system_fingerprint': None, 'id': 'chatcmpl-BdPvjg1hXQM66wIBjlnvNBGACX2Tg', 'service_tier': 'default', 'finish_reason': 'stop', 'logprobs': None}, id='run--b93ce4b1-cc79-4a89-b055-521e287f49b2-0', usage_metadata={'input_tokens': 843, 'output_tokens': 18, 'total_tokens': 861, 'input_token_details': {'audio': 0, 'cache_read': 0}, 'output_token_details': {'audio': 0, 'reasoning': 0}})]}, next=(), config={'configurable': {'thread_id': '1', 'checkpoint_ns': '', 'checkpoint_id': '1f03e771-8ceb-60c7-8004-638f832b3296'}}, metadata={'source': 'loop', 'writes': {'chatbot': {'messages': [AIMessage(content='You are Rehun. How can I help you today, Rehun?', additional_kwargs={'refusal': None}, response_metadata={'token_usage': {'completion_tokens': 18, 'prompt_tokens': 843, 'total_tokens': 861, 'completion_tokens_details': {'accepted_prediction_tokens': 0, 'audio_tokens': 0, 'reasoning_tokens': 0, 'rejected_prediction_tokens': 0}, 'prompt_tokens_details': {'audio_tokens': 0, 'cached_tokens': 0}}, 'model_name': 'gpt-3.5-turbo-0125', 'system_fingerprint': None, 'id': 'chatcmpl-BdPvjg1hXQM66wIBjlnvNBGACX2Tg', 'service_tier': 'default', 'finish_reason': 'stop', 'logprobs': None}, id='run--b93ce4b1-cc79-4a89-b055-521e287f49b2-0', usage_metadata={'input_tokens': 843, 'output_tokens': 18, 'total_tokens': 861, 'input_token_details': {'audio': 0, 'cache_read': 0}, 'output_token_details': {'audio': 0, 'reasoning': 0}})]}}, 'step': 4, 'parents': {}, 'thread_id': '1'}, created_at='2025-05-31T23:29:28.671456+00:00', parent_config={'configurable': {'thread_id': '1', 'checkpoint_ns': '', 'checkpoint_id': '1f03e771-8161-6bb2-8003-5e8664d305b6'}}, tasks=(), interrupts=())"
      ]
     },
     "execution_count": 21,
     "metadata": {},
     "output_type": "execute_result"
    }
   ],
   "source": [
    "snapshot"
   ]
  },
  {
   "cell_type": "markdown",
   "id": "19965f13",
   "metadata": {},
   "source": [
    "## FULL CODE"
   ]
  },
  {
   "cell_type": "code",
   "execution_count": null,
   "id": "143e772c",
   "metadata": {},
   "outputs": [
    {
     "data": {
      "text/plain": [
       "()"
      ]
     },
     "execution_count": 22,
     "metadata": {},
     "output_type": "execute_result"
    }
   ],
   "source": [
    "from typing import Annotated\n",
    "\n",
    "from langchain.chat_models import init_chat_model\n",
    "from langchain_tavily import TavilySearch\n",
    "from langchain_core.messages import BaseMessage\n",
    "from typing_extensions import TypedDict\n",
    "\n",
    "from langgraph.checkpoint.memory import MemorySaver\n",
    "from langgraph.graph import StateGraph\n",
    "from langgraph.graph.message import add_messages\n",
    "from langgraph.prebuilt import ToolNode, tools_condition\n",
    "\n",
    "class State(TypedDict):\n",
    "    messages: Annotated[list, add_messages]\n",
    "\n",
    "graph_builder = StateGraph(State)\n",
    "\n",
    "tool = TavilySearch(max_results=2)\n",
    "tools = [tool]\n",
    "llm_with_tools = llm.bind_tools(tools)\n",
    "\n",
    "def chatbot(state: State):\n",
    "    return {\"messages\": [llm_with_tools.invoke(state[\"messages\"])]}\n",
    "\n",
    "graph_builder.add_node(\"chatbot\", chatbot)\n",
    "\n",
    "tool_node = ToolNode(tools=[tool])\n",
    "graph_builder.add_node(\"tools\", tool_node)\n",
    "\n",
    "graph_builder.add_conditional_edges(\n",
    "    \"chatbot\",\n",
    "    tools_condition,\n",
    ")\n",
    "graph_builder.add_edge(\"tools\", \"chatbot\")\n",
    "graph_builder.set_entry_point(\"chatbot\")\n",
    "memory = MemorySaver() #tinggal nambahin ini aja, lalu set config diberikutnya\n",
    "graph = graph_builder.compile(checkpointer=memory)"
   ]
  }
 ],
 "metadata": {
  "kernelspec": {
   "display_name": ".venv",
   "language": "python",
   "name": "python3"
  },
  "language_info": {
   "codemirror_mode": {
    "name": "ipython",
    "version": 3
   },
   "file_extension": ".py",
   "mimetype": "text/x-python",
   "name": "python",
   "nbconvert_exporter": "python",
   "pygments_lexer": "ipython3",
   "version": "3.12.7"
  }
 },
 "nbformat": 4,
 "nbformat_minor": 5
}
