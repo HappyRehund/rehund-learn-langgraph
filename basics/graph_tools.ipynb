{
 "cells": [
  {
   "cell_type": "markdown",
   "id": "f8ca57b1",
   "metadata": {},
   "source": [
    "## Define LLM"
   ]
  },
  {
   "cell_type": "code",
   "execution_count": 7,
   "id": "22c691a0",
   "metadata": {},
   "outputs": [],
   "source": [
    "import os\n",
    "from langchain.chat_models import init_chat_model\n",
    "from getpass import getpass"
   ]
  },
  {
   "cell_type": "code",
   "execution_count": 8,
   "id": "d522d5f2",
   "metadata": {},
   "outputs": [],
   "source": [
    "os.environ[\"OPENAI_API_KEY\"] = getpass(\"Enter your OpenAI API key: \")"
   ]
  },
  {
   "cell_type": "code",
   "execution_count": 9,
   "id": "428be9af",
   "metadata": {},
   "outputs": [],
   "source": [
    "llm = init_chat_model(\"openai:gpt-3.5-turbo\")"
   ]
  },
  {
   "cell_type": "markdown",
   "id": "7888bfe9",
   "metadata": {},
   "source": [
    "## Define the graph "
   ]
  },
  {
   "cell_type": "code",
   "execution_count": 10,
   "id": "2555e8f5",
   "metadata": {},
   "outputs": [],
   "source": [
    "from typing import Annotated\n",
    "from typing_extensions import TypedDict\n",
    "\n",
    "from langgraph.graph import StateGraph, START, END\n",
    "from langgraph.graph.message import add_messages\n",
    "\n",
    "class State(TypedDict):\n",
    "    messages: Annotated[list, add_messages]\n",
    "\n",
    "graph_builder = StateGraph(State)"
   ]
  },
  {
   "cell_type": "markdown",
   "id": "284d00c9",
   "metadata": {},
   "source": [
    "## Define the tools"
   ]
  },
  {
   "cell_type": "code",
   "execution_count": 11,
   "id": "27434827",
   "metadata": {},
   "outputs": [],
   "source": [
    "os.environ[\"TAVILY_API_KEY\"] = getpass(\"Enter yout Tavily API key: \")"
   ]
  },
  {
   "cell_type": "code",
   "execution_count": 12,
   "id": "0daf32d4",
   "metadata": {},
   "outputs": [],
   "source": [
    "from langchain_tavily import TavilySearch\n",
    "\n",
    "tool = TavilySearch(max_results=2)\n",
    "tools = [tool]\n",
    "#tool.invoke(\"What is the capital of France?\")"
   ]
  },
  {
   "cell_type": "markdown",
   "id": "7c79c463",
   "metadata": {},
   "source": [
    "## Continue Define the graph"
   ]
  },
  {
   "cell_type": "code",
   "execution_count": 13,
   "id": "5c5a018a",
   "metadata": {},
   "outputs": [
    {
     "data": {
      "text/plain": [
       "<langgraph.graph.state.StateGraph at 0x2567e833ec0>"
      ]
     },
     "execution_count": 13,
     "metadata": {},
     "output_type": "execute_result"
    }
   ],
   "source": [
    "llm_with_tools = llm.bind_tools(tools)\n",
    "\n",
    "def chatbot(state: State):\n",
    "    return {\"messages\": [llm_with_tools.invoke(state[\"messages\"])]}\n",
    "\n",
    "graph_builder.add_node(\"chatbot\", chatbot)"
   ]
  },
  {
   "cell_type": "markdown",
   "id": "7cb53fc3",
   "metadata": {},
   "source": [
    "## Create a function to run the tools\n",
    "\n",
    "Buat node func baru bernama BasicToolNode yang berfungsi untuk check most recent message di dalam state dan memanggil tools jika AIMessage mengandung tool_calls"
   ]
  },
  {
   "cell_type": "code",
   "execution_count": 14,
   "id": "dfe754fb",
   "metadata": {},
   "outputs": [],
   "source": [
    "import json \n",
    "\n",
    "from langchain_core.messages import ToolMessage\n",
    "\n",
    "class BasicToolNode:\n",
    "    \"\"\"A node that runs the tools requested in the last AIMessage\"\"\"\n",
    "    def __init__(self, tools: list) -> None:\n",
    "        self.tools_by_name = {tool.name: tool for tool in tools}\n",
    "    \n",
    "    def __call__(self, inputs: dict):\n",
    "        if messages := inputs.get(\"message\", []):\n",
    "            message = messages[-1]\n",
    "        else: \n",
    "            raise ValueError(\"No message found in input\")\n",
    "        \n",
    "        outputs = []\n",
    "        for tool_call in message.tool_calls:\n",
    "            tool_result = self.tools_by_name[tool_call[\"name\"]].invoke(tool_call[\"arguments\"])\n",
    "            outputs.append(\n",
    "                ToolMessage(\n",
    "                    content = json.dumps(tool_result),\n",
    "                    name=tool_call[\"name\"],\n",
    "                    tool_call_id=tool_call[\"id\"]\n",
    "                )\n",
    "            )\n",
    "        return {\"messages\": outputs}"
   ]
  },
  {
   "cell_type": "code",
   "execution_count": 15,
   "id": "e8310709",
   "metadata": {},
   "outputs": [
    {
     "data": {
      "text/plain": [
       "<langgraph.graph.state.StateGraph at 0x2567e833ec0>"
      ]
     },
     "execution_count": 15,
     "metadata": {},
     "output_type": "execute_result"
    }
   ],
   "source": [
    "tool_node = BasicToolNode(tools=[tool])\n",
    "graph_builder.add_node(\"tools\", tool_node)"
   ]
  },
  {
   "cell_type": "markdown",
   "id": "653846fb",
   "metadata": {},
   "source": [
    "Variabel tool_node sekarang menyimpan instance dari BasicToolNode yang telah dikonfigurasi dengan TavilySearch tool."
   ]
  },
  {
   "cell_type": "markdown",
   "id": "cd678bf1",
   "metadata": {},
   "source": [
    "## Define conditional_edges\n",
    "\n",
    "Conditional Edges?? Jadi Edges itu route the control flow dari satu node ke next node, nah klo Conditional Edges itu bermulai dari 1 node dan biasanya terdapat if-statements untuk route to different nodes tergantung current graph state. Func ini menerima current graph state dan me-return string atau list of strings yang mengindikasikan kemana node berikutnya\n",
    "\n",
    "Oke jadi, buat router func dengan nama route_tools yang menge-check untuk tool_calls ada atau tidak di chatbot's output. Provide this func to graph dengan call add_conditional_edges, yang memberi tahu graph setiap chatbot node selesai untuk check kemana tujuan berikutnya\n",
    "\n",
    "The condition will route to tools ketika tools_calls ada dan END ketika tidak ada. "
   ]
  },
  {
   "cell_type": "code",
   "execution_count": null,
   "id": "89d7aa8c",
   "metadata": {},
   "outputs": [],
   "source": [
    "def route_tools(state: State):\n",
    "    \"\"\"\n",
    "    Use in the conditional_edge to route to the ToolNode if the last message has tool calls. Otherwise, route to the END\n",
    "    \"\"\"\n",
    "    if isinstance(state, list):\n",
    "        ai_message = state[-1]\n",
    "    elif messages := state.get(\"messages\", []):\n",
    "        ai_message = messages[-1]\n",
    "    else: \n",
    "        raise ValueError(f\"No messages found in input state to tool_edge: {state}\")\n",
    "    if hasattr(ai_message, \"tool_calls\") and len(ai_message.tool_calls) > 0:\n",
    "        return \"tools\" #return ke tools node\n",
    "    return END"
   ]
  },
  {
   "cell_type": "code",
   "execution_count": 17,
   "id": "e9d24013",
   "metadata": {},
   "outputs": [],
   "source": [
    "# tools_condition func return \"tools ketika chatbot asks to use tool, dan \"END\" ketika tidak apa melakukan direct response\n",
    "# this conditional routing defines the main agent loop\n",
    "\n",
    "graph_builder.add_conditional_edges(\n",
    "    \"chatbot\",\n",
    "    route_tools,\n",
    "    {\n",
    "        \"tools\": \"tools\",\n",
    "        END: END,\n",
    "    }\n",
    ")\n",
    "\n",
    "# Setiap tool dipanggil, kita return ke chatbot untuk decide next step\n",
    "graph_builder.add_edge(\"tools\", \"chatbot\")\n",
    "graph_builder.add_edge(START, \"chatbot\")\n",
    "\n",
    "graph = graph_builder.compile()"
   ]
  },
  {
   "cell_type": "markdown",
   "id": "bb81d4d0",
   "metadata": {},
   "source": [
    "# Visualize the graph"
   ]
  },
  {
   "cell_type": "code",
   "execution_count": 18,
   "id": "e77e9cb5",
   "metadata": {},
   "outputs": [
    {
     "data": {
      "image/png": "[encoded data removed]",
      "text/plain": [
       "<IPython.core.display.Image object>"
      ]
     },
     "metadata": {},
     "output_type": "display_data"
    }
   ],
   "source": [
    "from IPython.display import display, Image\n",
    "\n",
    "try:\n",
    "    display(Image(graph.get_graph().draw_mermaid_png()))\n",
    "except Exception:\n",
    "    pass"
   ]
  },
  {
   "cell_type": "markdown",
   "id": "e5086984",
   "metadata": {},
   "source": [
    "## Better Use Prebuilt if already understand the low level\n",
    "\n",
    "- 'BasicToolNode' is replaced with the prebuild ToolNode\n",
    "- 'route_tools' is replaced with the prebuilt tools_condition"
   ]
  },
  {
   "cell_type": "code",
   "execution_count": 19,
   "id": "20d9cee9",
   "metadata": {},
   "outputs": [],
   "source": [
    "from typing import Annotated\n",
    "from langchain_tavily import TavilySearch\n",
    "from typing_extensions import TypedDict\n",
    "\n",
    "from langchain_core.messages import BaseMessage\n",
    "\n",
    "from langgraph.graph import StateGraph, START, END\n",
    "from langgraph.graph.message import add_messages\n",
    "from langgraph.prebuilt import ToolNode, tools_condition"
   ]
  },
  {
   "cell_type": "code",
   "execution_count": 20,
   "id": "2040b539",
   "metadata": {},
   "outputs": [],
   "source": [
    "class State(TypedDict):\n",
    "    messages: Annotated[list, add_messages]\n",
    "\n",
    "graph_builder = StateGraph(State)\n"
   ]
  },
  {
   "cell_type": "code",
   "execution_count": 21,
   "id": "10c28c96",
   "metadata": {},
   "outputs": [],
   "source": [
    "tool = TavilySearch(max_results=2)\n",
    "tools = [tool]\n",
    "llm_with_tools = llm.bind_tools(tools)"
   ]
  },
  {
   "cell_type": "markdown",
   "id": "c06e8c84",
   "metadata": {},
   "source": [
    "# Node Function"
   ]
  },
  {
   "cell_type": "code",
   "execution_count": 22,
   "id": "4e1f1889",
   "metadata": {},
   "outputs": [
    {
     "data": {
      "text/plain": [
       "<langgraph.graph.state.StateGraph at 0x25601b0baa0>"
      ]
     },
     "execution_count": 22,
     "metadata": {},
     "output_type": "execute_result"
    }
   ],
   "source": [
    "def chatbot(state: State):\n",
    "    return {\"messages\": [llm_with_tools.invoke(state[\"messages\"])]}\n",
    "\n",
    "graph_builder.add_node(\"chatbot\", chatbot)\n"
   ]
  },
  {
   "cell_type": "code",
   "execution_count": 23,
   "id": "0758df74",
   "metadata": {},
   "outputs": [
    {
     "data": {
      "text/plain": [
       "<langgraph.graph.state.StateGraph at 0x25601b0baa0>"
      ]
     },
     "execution_count": 23,
     "metadata": {},
     "output_type": "execute_result"
    }
   ],
   "source": [
    "tool_node = ToolNode(tools=[tool])\n",
    "graph_builder.add_node(\"tools\", tool_node)"
   ]
  },
  {
   "cell_type": "code",
   "execution_count": 24,
   "id": "dc54af4e",
   "metadata": {},
   "outputs": [
    {
     "data": {
      "text/plain": [
       "<langgraph.graph.state.StateGraph at 0x25601b0baa0>"
      ]
     },
     "execution_count": 24,
     "metadata": {},
     "output_type": "execute_result"
    }
   ],
   "source": [
    "graph_builder.add_conditional_edges(\n",
    "    \"chatbot\",\n",
    "    tools_condition\n",
    ")"
   ]
  },
  {
   "cell_type": "code",
   "execution_count": 25,
   "id": "99d52e9e",
   "metadata": {},
   "outputs": [],
   "source": [
    "# Setiap tool dipanggil, kita return ke chatbot untuk decide next step\n",
    "graph_builder.add_edge(\"tools\", \"chatbot\")\n",
    "graph_builder.add_edge(START, \"chatbot\")\n",
    "graph = graph_builder.compile()"
   ]
  },
  {
   "cell_type": "code",
   "execution_count": 26,
   "id": "b3ab2950",
   "metadata": {},
   "outputs": [
    {
     "data": {
      "image/png": "[encoded data removed]",
      "text/plain": [
       "<IPython.core.display.Image object>"
      ]
     },
     "metadata": {},
     "output_type": "display_data"
    }
   ],
   "source": [
    "from IPython.display import display, Image\n",
    "\n",
    "try:\n",
    "    display(Image(graph.get_graph().draw_mermaid_png()))\n",
    "except Exception:\n",
    "    pass"
   ]
  },
  {
   "cell_type": "markdown",
   "id": "9ecdffa1",
   "metadata": {},
   "source": [
    "# ASK THE CHATBOT!!!"
   ]
  },
  {
   "cell_type": "code",
   "execution_count": 28,
   "id": "2969a618",
   "metadata": {},
   "outputs": [],
   "source": [
    "def stream_graph_updates(user_input: str):\n",
    "    for event in graph.stream({\n",
    "        \"messages\": [\n",
    "            {\n",
    "                \"role\": \"user\",\n",
    "                \"content\": user_input\n",
    "            }\n",
    "        ]\n",
    "    }):\n",
    "        for value in event.values():\n",
    "            print(\"Assistant:\", value[\"messages\"][-1].content)"
   ]
  },
  {
   "cell_type": "code",
   "execution_count": 30,
   "id": "bb117305",
   "metadata": {},
   "outputs": [
    {
     "name": "stdout",
     "output_type": "stream",
     "text": [
      "Assistant: \n",
      "Assistant: {\"query\": \"Rayhan Firdaus Ardian\", \"follow_up_questions\": null, \"answer\": null, \"images\": [], \"results\": [{\"title\": \"Ardian Rayhan Firdaus Profiles - Facebook\", \"url\": \"https://www.facebook.com/public/Ardian-Rayhan-Firdaus/\", \"content\": \"View the profiles of people named Ardian Rayhan Firdaus. Join Facebook to connect with Ardian Rayhan Firdaus and others you may know. Facebook gives\", \"score\": 0.5809471, \"raw_content\": null}, {\"title\": \"HappyRehund/DBSCAN-and-KMEANS - GitHub\", \"url\": \"https://github.com/HappyRehund/DBSCAN-and-KMEANS\", \"content\": \"Machine Learning Assignment - Rayhan Firdaus Ardian / KOMA / 519095 License. MIT license 0 stars 0 forks Branches Tags Activity. Star Notifications You must be signed in to change notification settings. Code; Issues 0; Pull requests 0; Actions; Projects 0; Security. Uh oh!\", \"score\": 0.49436116, \"raw_content\": null}], \"response_time\": 2.2}\n",
      "Assistant: Rayhan Firdaus Ardian adalah seseorang yang mungkin juga dikenal dengan nama Ardian Rayhan Firdaus. Anda dapat menemukan profilnya di Facebook melalui tautan ini: [Ardian Rayhan Firdaus Profiles - Facebook](https://www.facebook.com/public/Ardian-Rayhan-Firdaus/).\n",
      "\n",
      "Selain itu, Rayhan Firdaus Ardian juga terkait dengan Machine Learning Assignment di GitHub. Anda dapat melihat lebih lanjut di repositori GitHub ini: [HappyRehund/DBSCAN-and-KMEANS](https://github.com/HappyRehund/DBSCAN-and-KMEANS).\n",
      "Assistant: Albert Camus adalah seorang novelis, esais, dramawan, dan filsuf Prancis-Aljazair yang dikenal karena karyanya yang berpengaruh dalam sastra abad ke-20. Dia lahir pada tahun 1913 di Aljazair dan dianugerahi Hadiah Nobel Sastra pada tahun 1957. Camus terkenal dengan karyanya yang menyoroti konsep absurditas dalam kehidupan manusia dan eksistensialisme. Karya terkenalnya termasuk novel \"The Stranger\" dan \"The Plague.\" Camus juga terlibat dalam aktivitas politik dan hak asasi manusia, membuatnya menjadi salah satu tokoh intelektual yang paling dihormati pada masanya.\n",
      "Goodbye!\n"
     ]
    }
   ],
   "source": [
    "while True:\n",
    "    try: \n",
    "        user_input = input(\"User: \")\n",
    "        if user_input.lower() in [\"quit\", \"exit\", \"q\"]:\n",
    "            print(\"Goodbye!\")\n",
    "            break\n",
    "        \n",
    "        stream_graph_updates(user_input)\n",
    "    except:\n",
    "        user_input = \"What do you know about LangChain?\"\n",
    "        print(\"User: \"+ user_input)\n",
    "        stream_graph_updates(user_input)\n",
    "        break\n",
    "    "
   ]
  }
 ],
 "metadata": {
  "kernelspec": {
   "display_name": ".venv",
   "language": "python",
   "name": "python3"
  },
  "language_info": {
   "codemirror_mode": {
    "name": "ipython",
    "version": 3
   },
   "file_extension": ".py",
   "mimetype": "text/x-python",
   "name": "python",
   "nbconvert_exporter": "python",
   "pygments_lexer": "ipython3",
   "version": "3.12.7"
  }
 },
 "nbformat": 4,
 "nbformat_minor": 5
}
